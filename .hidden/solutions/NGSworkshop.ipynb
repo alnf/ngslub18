{
 "cells": [
  {
   "cell_type": "code",
   "execution_count": 8,
   "metadata": {},
   "outputs": [
    {
     "name": "stdout",
     "output_type": "stream",
     "text": [
      "Populating the interactive namespace from numpy and matplotlib\n",
      "The rpy2.ipython extension is already loaded. To reload it, use:\n",
      "  %reload_ext rpy2.ipython\n"
     ]
    }
   ],
   "source": [
    "%pylab inline\n",
    "%load_ext rpy2.ipython"
   ]
  },
  {
   "cell_type": "markdown",
   "metadata": {},
   "source": [
    "jupyter: \n",
    "\n",
    "/mnt/wagabi/ngslub18/jupyter_run\n",
    "\n",
    "- git clone https://github.com/macieksk/ngslub18.git\n",
    "- in byobu jupyter_run.sh xxxx # xxxx is unique port number for each user\n",
    "- ssh config:\n",
    "Host ngslub18\n",
    "    User wagabi\n",
    "    Hostname 147.228.242.15\n",
    "    ForwardX11 yes\n",
    "    LocalForward localhost:5xxxx localhost:xxxx\n"
   ]
  },
  {
   "cell_type": "code",
   "execution_count": 10,
   "metadata": {},
   "outputs": [
    {
     "name": "stdout",
     "output_type": "stream",
     "text": [
      "NGSchool.ipynb\n",
      "example_p4.fasta\n",
      "example_p4.fastq\n",
      "jupyter_run.sh\n"
     ]
    }
   ],
   "source": [
    "%%bash\n",
    "ls"
   ]
  },
  {
   "cell_type": "code",
   "execution_count": 44,
   "metadata": {},
   "outputs": [
    {
     "data": {
      "text/latex": [
       "Equation:\n",
       "$$0=e^{i\\pi}-1$$"
      ],
      "text/plain": [
       "<IPython.core.display.Latex object>"
      ]
     },
     "metadata": {},
     "output_type": "display_data"
    }
   ],
   "source": [
    "%%latex\n",
    "Equation:\n",
    "$$0=e^{i\\pi}-1$$"
   ]
  },
  {
   "cell_type": "code",
   "execution_count": 15,
   "metadata": {},
   "outputs": [
    {
     "data": {
      "text/plain": [
       "matrix([[0, 1],\n",
       "        [2, 3]])"
      ]
     },
     "execution_count": 15,
     "metadata": {},
     "output_type": "execute_result"
    }
   ],
   "source": [
    "import numpy as np\n",
    "np.matrix([[0,1],[2,3]])"
   ]
  },
  {
   "cell_type": "code",
   "execution_count": 19,
   "metadata": {},
   "outputs": [
    {
     "name": "stdout",
     "output_type": "stream",
     "text": [
      "Populating the interactive namespace from numpy and matplotlib\n",
      "The rpy2.ipython extension is already loaded. To reload it, use:\n",
      "  %reload_ext rpy2.ipython\n"
     ]
    }
   ],
   "source": [
    "%pylab inline\n",
    "%load_ext rpy2.ipython\n",
    "# pip3 install --user matplotlib rpy2 pandas # in terminal if needed"
   ]
  },
  {
   "cell_type": "code",
   "execution_count": 53,
   "metadata": {},
   "outputs": [
    {
     "data": {
      "image/png": "[encoded data removed]"
     },
     "metadata": {},
     "output_type": "display_data"
    }
   ],
   "source": [
    "%%R -w 400 -h 400 -r 120\n",
    "plot(sample(1:10),col=sample(rainbow(10)),pch=8)"
   ]
  },
  {
   "cell_type": "markdown",
   "metadata": {},
   "source": [
    "### Practice #1\n",
    "#### What are best options for remote synchronization using *rsync*?"
   ]
  },
  {
   "cell_type": "markdown",
   "metadata": {},
   "source": []
  },
  {
   "cell_type": "markdown",
   "metadata": {},
   "source": [
    "### Prompts:\n",
    "- what about subfolders?\n",
    "- what about links in folders?\n",
    "- what about unchanged access permitions on each file (owner is owner)?"
   ]
  },
  {
   "cell_type": "markdown",
   "metadata": {},
   "source": [
    "\n",
    "* -a, --archive               archive mode; equals -rlptgoD (no -H,-A,-X)<br>\n",
    "* -r, --recursive             recurse into directories<br>\n",
    "* -l, --links                 copy symlinks as symlinks<br>\n",
    "* -p, --perms                 preserve permissions<br>\n",
    "* -t, --times                 preserve modification times<br>\n",
    "* -g, --group                 preserve group<br>\n",
    "     --devices               preserve device files (super-user only)<br>\n",
    "     --specials              preserve special files<br>\n",
    "* -D                          same as --devices --specials<br>\n",
    "* -o, --owner                 preserve owner (super-user only)<br>\n",
    "\n",
    "\n",
    "* -z, --compress              compress file data during the transfer\n",
    "     --compress-level=NUM    explicitly set compression level   ex. 9\n",
    "* --partial-dir=DIR       put a partially transferred file into DIR\n",
    "* --partial               keep partially transferred files  \n",
    "* -h, --human-readable        output numbers in a human-readable format\n",
    "* --no-o \n",
    "* --groupmap=*:GROUPONREMOTE \n",
    "* --chmod=Dg+s,ug+r,go-w,o-rwx to change permision\n",
    "\n",
    "Incremental recursion can be disabled using the --no-inc-recursive\n",
    "    option or its shorter --no-i-r alias. \n",
    "\n"
   ]
  },
  {
   "cell_type": "code",
   "execution_count": null,
   "metadata": {},
   "outputs": [],
   "source": []
  },
  {
   "cell_type": "code",
   "execution_count": null,
   "metadata": {},
   "outputs": [],
   "source": []
  },
  {
   "cell_type": "markdown",
   "metadata": {},
   "source": [
    "### Practise #2\n",
    "#### What options need to be added to run rsync live... safely?"
   ]
  },
  {
   "cell_type": "markdown",
   "metadata": {},
   "source": [
    "### Prompts:\n",
    "- what about half-created files?\n",
    "- when to finish coping?"
   ]
  },
  {
   "cell_type": "markdown",
   "metadata": {},
   "source": [
    "- -partial-dir=DIR       put a partially transferred file into DIR\n",
    "- -partial               keep partially transferred files\n"
   ]
  },
  {
   "cell_type": "code",
   "execution_count": null,
   "metadata": {},
   "outputs": [],
   "source": []
  },
  {
   "cell_type": "markdown",
   "metadata": {},
   "source": [
    "#### *How to rsync only files in fastq format"
   ]
  },
  {
   "cell_type": "code",
   "execution_count": null,
   "metadata": {},
   "outputs": [],
   "source": []
  },
  {
   "cell_type": "code",
   "execution_count": null,
   "metadata": {},
   "outputs": [],
   "source": [
    "## Please update snakemake in terminal\n",
    "pip3 install --user --upgrade snakemake"
   ]
  },
  {
   "cell_type": "markdown",
   "metadata": {},
   "source": [
    "## Example #1\n",
    "Divide file into 3 equal files."
   ]
  },
  {
   "cell_type": "code",
   "execution_count": null,
   "metadata": {},
   "outputs": [],
   "source": [
    "#https://stackoverflow.com/questions/21034373/how-to-load-edit-run-save-text-files-py-into-an-ipython-notebook-cell"
   ]
  },
  {
   "cell_type": "code",
   "execution_count": 59,
   "metadata": {},
   "outputs": [
    {
     "name": "stdout",
     "output_type": "stream",
     "text": [
      "Writing example.fasta\n"
     ]
    }
   ],
   "source": [
    "%%writefile example.fasta\n",
    ">1\n",
    "ACGT\n",
    ">2\n",
    "GCTA\n",
    ">3\n",
    "TTTT\n",
    ">4\n",
    "ACCC"
   ]
  },
  {
   "cell_type": "code",
   "execution_count": 60,
   "metadata": {},
   "outputs": [
    {
     "name": "stdout",
     "output_type": "stream",
     "text": [
      "Overwriting Snakefile\n"
     ]
    }
   ],
   "source": [
    "%%writefile Snakefile\n",
    "\n",
    "rule divide_into_3:\n",
    "    input: seq=\"{name}.fasta\",\n",
    "    output: seq1=\"{name}1.fasta\",\n",
    "            seq2=\"{name}2.fasta\",\n",
    "            seq3=\"{name}3.fasta\",            \n",
    "    shell: \"\"\"\n",
    "        awk '{{nr=int((NR-1)/2)%3+1; x=\"{wildcards.name}\"nr\".fasta\";}}{{print > x}}' \"{input.seq}\"\n",
    "    \"\"\" # (this string goes through .format(snake_variables_dictionary))\n",
    "    "
   ]
  },
  {
   "cell_type": "code",
   "execution_count": 61,
   "metadata": {
    "scrolled": true
   },
   "outputs": [
    {
     "name": "stdout",
     "output_type": "stream",
     "text": [
      "==> example1.fasta <==\n",
      ">1\n",
      "ACGT\n",
      ">4\n",
      "ACCC\n",
      "\n",
      "==> example2.fasta <==\n",
      ">2\n",
      "GCTA\n",
      "\n",
      "==> example3.fasta <==\n",
      ">3\n",
      "TTTT\n"
     ]
    },
    {
     "name": "stderr",
     "output_type": "stream",
     "text": [
      "Provided cores: 1\n",
      "Rules claiming more threads will be scaled down.\n",
      "Job counts:\n",
      "\tcount\tjobs\n",
      "\t1\tdivide_into_3\n",
      "\t1\n",
      "rule divide_into_3:\n",
      "\tinput: example.fasta\n",
      "\toutput: example1.fasta, example2.fasta, example3.fasta\n",
      "1 of 1 steps (100%) done\n"
     ]
    }
   ],
   "source": [
    "%%bash\n",
    "snakemake example3.fasta -f && tail -n +1 example{1,2,3}.fasta"
   ]
  },
  {
   "cell_type": "code",
   "execution_count": null,
   "metadata": {},
   "outputs": [],
   "source": []
  },
  {
   "cell_type": "markdown",
   "metadata": {},
   "source": [
    "### Practise #3"
   ]
  },
  {
   "cell_type": "code",
   "execution_count": null,
   "metadata": {},
   "outputs": [],
   "source": [
    "%%writefile Snakefile\n",
    "# TASK write \n",
    "# Warning, please generate strings (output list, shell) using + operator on strings, not .format function (ask for explanation why :)\n",
    "n=5\n",
    "rule divide_into_n:\n",
    "    ..."
   ]
  },
  {
   "cell_type": "code",
   "execution_count": null,
   "metadata": {},
   "outputs": [],
   "source": []
  },
  {
   "cell_type": "code",
   "execution_count": null,
   "metadata": {},
   "outputs": [],
   "source": []
  },
  {
   "cell_type": "code",
   "execution_count": null,
   "metadata": {},
   "outputs": [],
   "source": []
  },
  {
   "cell_type": "markdown",
   "metadata": {},
   "source": [
    "## Example 2\n",
    "Case when the number of outputs is unknown or large. If all downstream rules rely on the whole sets of outputs, rather than on the individual files, and when we want to create output for for example every sample we have, 'dynamic' keyword.\n",
    "This rule will launch other rules which are necessary to create files. \n"
   ]
  },
  {
   "cell_type": "code",
   "execution_count": null,
   "metadata": {},
   "outputs": [],
   "source": [
    "rule all_centrifuge_aggregated:\n",
    "    input:[dynamic(\"{{numer}}/{{number}}.from_centrifuge\".format(suffix)) for suffix in [\"noEuca__krona.html\", \"classification_krona.html\"]]\n"
   ]
  },
  {
   "cell_type": "code",
   "execution_count": null,
   "metadata": {},
   "outputs": [],
   "source": []
  },
  {
   "cell_type": "markdown",
   "metadata": {},
   "source": [
    "## Practice 3\n",
    "### Snakemake\n",
    "\n",
    "Using snakemake create 3 rules that enable creation of:\n",
    "1. ...150 random sequences in FASTA format (each from 50 to 100bp). Put them randomly in 3 files, so that each file contains 100 sequences (sequences can be repeated in files or even in one file). PYTHON lub bas (shuff)\n",
    "2. ... another file (tab separated) containing any sequence that occurred in the files and at least: the number of different files in which it was placed, and the number of all counts. SHELL\n",
    "3. ... interesting histograms based on 4th file (each sequence in the number of files). R"
   ]
  },
  {
   "cell_type": "code",
   "execution_count": 92,
   "metadata": {},
   "outputs": [
    {
     "name": "stdout",
     "output_type": "stream",
     "text": [
      "Overwriting Snakefile\n"
     ]
    }
   ],
   "source": [
    "%%writefile Snakefile\n",
    "\n",
    "rule make_first:\n",
    "    output: tsv=\"firstfile.tsv\"\n",
    "    run: open(output.tsv,\"w\").writelines([\"123\\n\",\"456\\n\"])\n",
    "        \n",
    "rule split_file1:\n",
    "    input: rules.make_first.output\n",
    "    output:\"out1.tsv\"\n",
    "    shell: \"\"\" \n",
    "            head -n 1 < \"{input}\" > \"{output}\"\n",
    "    \"\"\"\n",
    "        \n",
    "rule split_file2:\n",
    "    input:rules.make_first.output\n",
    "    output:\"out2.tsv\"\n",
    "    shell: \"\"\"         \n",
    "            tail -n 1 < \"{input}\" > \"{output}\"\n",
    "    \"\"\"\n",
    "        \n",
    "rule join_file:\n",
    "    input: i1=\"out1.tsv\",i2=\"out2.tsv\",\n",
    "    output: join=\"joined.tsv\"\n",
    "    shell: \"\"\" cat \"{input.i2}\" \"{input.i1}\" > \"{output.join}\" \"\"\"\n",
    "                "
   ]
  },
  {
   "cell_type": "code",
   "execution_count": 93,
   "metadata": {
    "scrolled": true
   },
   "outputs": [
    {
     "name": "stdout",
     "output_type": "stream",
     "text": [
      "456\n",
      "123\n"
     ]
    },
    {
     "name": "stderr",
     "output_type": "stream",
     "text": [
      "Building DAG of jobs...\n",
      "candidate job join_file\n",
      "\twildcards: \n",
      "candidate job split_file1\n",
      "\twildcards: \n",
      "candidate job make_first\n",
      "\twildcards: \n",
      "selected job make_first\n",
      "\twildcards: \n",
      "selected job split_file1\n",
      "\twildcards: \n",
      "candidate job split_file2\n",
      "\twildcards: \n",
      "candidate job make_first\n",
      "\twildcards: \n",
      "selected job make_first\n",
      "\twildcards: \n",
      "selected job split_file2\n",
      "\twildcards: \n",
      "selected job join_file\n",
      "\twildcards: \n",
      "Using shell: /bin/bash\n",
      "Provided cores: 1\n",
      "Rules claiming more threads will be scaled down.\n",
      "Job counts:\n",
      "\tcount\tjobs\n",
      "\t1\tjoin_file\n",
      "\t1\tsplit_file1\n",
      "\t1\tsplit_file2\n",
      "\t3\n",
      "\n",
      "[Tue Sep 18 16:11:51 2018]\n",
      "rule split_file1:\n",
      "    input: firstfile.tsv\n",
      "    output: out1.tsv\n",
      "    jobid: 1\n",
      "\n",
      "[Tue Sep 18 16:11:51 2018]\n",
      "Finished job 1.\n",
      "1 of 3 steps (33%) done\n",
      "\n",
      "[Tue Sep 18 16:11:51 2018]\n",
      "rule split_file2:\n",
      "    input: firstfile.tsv\n",
      "    output: out2.tsv\n",
      "    jobid: 2\n",
      "\n",
      "[Tue Sep 18 16:11:51 2018]\n",
      "Finished job 2.\n",
      "2 of 3 steps (67%) done\n",
      "\n",
      "[Tue Sep 18 16:11:51 2018]\n",
      "rule join_file:\n",
      "    input: out1.tsv, out2.tsv\n",
      "    output: joined.tsv\n",
      "    jobid: 0\n",
      "\n",
      "[Tue Sep 18 16:11:51 2018]\n",
      "Finished job 0.\n",
      "3 of 3 steps (100%) done\n",
      "Complete log: /mnt/wagabi/ngslub18/jupyter_run/.snakemake/log/2018-09-18T161151.690806.snakemake.log\n"
     ]
    }
   ],
   "source": [
    "%%bash\n",
    "\n",
    "snakemake joined.tsv -f --debug-dag && cat joined.tsv"
   ]
  },
  {
   "cell_type": "code",
   "execution_count": 101,
   "metadata": {},
   "outputs": [
    {
     "name": "stderr",
     "output_type": "stream",
     "text": [
      "Building DAG of jobs...\n"
     ]
    }
   ],
   "source": [
    "%%bash\n",
    "# wajig install graphviz\n",
    "\n",
    "#dot -h\n",
    "snakemake joined.tsv -F --dag |dot -T png > dag.png  #--d3dag"
   ]
  },
  {
   "cell_type": "markdown",
   "metadata": {},
   "source": [
    "![](dag.png)"
   ]
  },
  {
   "cell_type": "markdown",
   "metadata": {},
   "source": [
    "### Practise #4\n",
    "Convert fastq file into fasta."
   ]
  },
  {
   "cell_type": "code",
   "execution_count": 3,
   "metadata": {},
   "outputs": [
    {
     "name": "stdout",
     "output_type": "stream",
     "text": [
      "Writing example_p4.fastq\n"
     ]
    }
   ],
   "source": [
    "%%writefile example_p4.fastq\n",
    "@SEQ_ID\n",
    "AGTTTGGGGTTCAAAGCAGTATCGATCAAATAGTAAATCCATTTGTTCAACTCACAGTTT\n",
    "+\n",
    "!''*((((***+))%%%++)(%%%%).1***-+*''))**55CCF>>>>>>CCCCCCC65\n",
    "@SEQ_ID2\n",
    "AGTTTGGGGTTCAAAGCAGTATCGATCAAATAGTAAATCCATTTGTTCAACTCACAGTCC\n",
    "+\n",
    "!''*((((***+))%%%++)(%%%%).1***-+*''))**55CCF>>>>>>CCC>>CC6C"
   ]
  },
  {
   "cell_type": "code",
   "execution_count": null,
   "metadata": {},
   "outputs": [],
   "source": []
  },
  {
   "cell_type": "code",
   "execution_count": null,
   "metadata": {},
   "outputs": [],
   "source": []
  },
  {
   "cell_type": "markdown",
   "metadata": {},
   "source": [
    "### Practice #5\n",
    "\n",
    "Get randomly 10% of data from fasta file (2 lines == one record, don’t split it!). \n",
    "\n",
    "Pseudorandom != random"
   ]
  },
  {
   "cell_type": "code",
   "execution_count": null,
   "metadata": {},
   "outputs": [],
   "source": []
  },
  {
   "cell_type": "code",
   "execution_count": null,
   "metadata": {},
   "outputs": [],
   "source": []
  },
  {
   "cell_type": "markdown",
   "metadata": {},
   "source": [
    "## BLAST"
   ]
  },
  {
   "cell_type": "markdown",
   "metadata": {},
   "source": [
    "### Practice #7\n",
    "What options of BLAST could help improved outputs for nanopore data?"
   ]
  },
  {
   "cell_type": "markdown",
   "metadata": {},
   "source": [
    "paramset:\n",
    "- -task blastn/blastp/tblastn/blastx\n",
    "- -num_threads \n",
    "- -db\n",
    "- -max_target_seqs  \n",
    "- -evalue\n",
    "- -word_size \n",
    "- -max_hsps  \n",
    "- -outfmt\n",
    "    - %f means sequence in FASTA format\n",
    "    - %s means sequence data (without defline)\n",
    "    - %l means sequence length\n",
    "    - %T means taxid\n",
    "    - %L means common taxonomic name"
   ]
  },
  {
   "cell_type": "markdown",
   "metadata": {},
   "source": []
  },
  {
   "cell_type": "markdown",
   "metadata": {},
   "source": [
    "### Practice #8\n",
    "#### RUN BLAST"
   ]
  },
  {
   "cell_type": "markdown",
   "metadata": {},
   "source": [
    "\n",
    "0. Download database from:\n",
    "ftp://ftp.ncbi.nlm.nih.gov/blast/db/16SMicrobial.tar.gz\n",
    "\n",
    "1. Prepare sample:\n",
    "fastq into fasta\n",
    "\n",
    "2. Run Blast (snakemake rule):\n",
    "out='6 qseqid sseqid staxids bitscore length qlen mismatch score evalue'\n",
    "\n",
    "/mnt/zgmvol/environment/software/sources/genXone/ncbi-blast-2.7.1+-src/c++/ReleaseMT/bin/blastn   -num_threads 32    -evalue  1e3      -word_size 15    -max_hsps  1     -max_target_seqs 5\n",
    "-db path_to_baza    -query input.fasta \n",
    "-outfmt out > output.tsv\n",
    "\n",
    "3. Count \n",
    "datamash --sort -g 3 count 3 mean 4 median 4 mean 5 median 5 < \"{input.datain}\" | sort -k 2rn,2 -k 1 > \"{output.dataout}\"  #BLAST_OUTPUT='6 qseqid sseqid staxids bitscore length qlen mismatch score evalue'\n",
    "\n",
    "4. from blast to krakn\n",
    "awk 'BEGIN{{ print \"readID\\tseqID\\ttaxID\\tscore\\t2ndBestScore\\thitLength\\tqueryLength\\tnumMatches\"; FS=\"\\t\"; OFS=\"\\t\";}}{{print   $1, $2,$3, $8, 0, $5, $6, 1 }} ' \"{input.datain}\" > \"{output.dataout}\" && centrifuge-kreport -x \"{params.db}\" \"{output.dataout}\" > \"{output.krakn}\"\n"
   ]
  },
  {
   "cell_type": "code",
   "execution_count": null,
   "metadata": {},
   "outputs": [],
   "source": []
  },
  {
   "cell_type": "code",
   "execution_count": null,
   "metadata": {},
   "outputs": [],
   "source": []
  },
  {
   "cell_type": "markdown",
   "metadata": {},
   "source": [
    "### Practice #9\n",
    "1. Pavian\n",
    "\n",
    "- Check how many Bacterial and Viral reads are in sample. \n",
    "- Create visualization in the form of a text and graphical tree. \n",
    "- Compare 2 samples in PAVIAN. Create CSV and TSV file with this comparison. \n",
    "\n",
    "2. Krona\n",
    "- Compare results from KRONA and Pavian. Where are the defferences?\n"
   ]
  },
  {
   "cell_type": "code",
   "execution_count": null,
   "metadata": {},
   "outputs": [],
   "source": []
  }
 ],
 "metadata": {
  "kernelspec": {
   "display_name": "Python 3",
   "language": "python",
   "name": "python3"
  },
  "language_info": {
   "codemirror_mode": {
    "name": "ipython",
    "version": 3
   },
   "file_extension": ".py",
   "mimetype": "text/x-python",
   "name": "python",
   "nbconvert_exporter": "python",
   "pygments_lexer": "ipython3",
   "version": "3.5.2"
  }
 },
 "nbformat": 4,
 "nbformat_minor": 2
}
