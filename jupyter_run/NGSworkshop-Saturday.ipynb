{
 "cells": [
  {
   "cell_type": "code",
   "execution_count": 1,
   "metadata": {},
   "outputs": [
    {
     "name": "stdout",
     "output_type": "stream",
     "text": [
      "Populating the interactive namespace from numpy and matplotlib\n"
     ]
    },
    {
     "name": "stderr",
     "output_type": "stream",
     "text": [
      "/mnt/shared_conda/envs/micro/lib/python3.6/site-packages/rpy2/rinterface/__init__.py:146: RRuntimeWarning: During startup - \n",
      "  warnings.warn(x, RRuntimeWarning)\n",
      "/mnt/shared_conda/envs/micro/lib/python3.6/site-packages/rpy2/rinterface/__init__.py:146: RRuntimeWarning: Warning messages:\n",
      "\n",
      "  warnings.warn(x, RRuntimeWarning)\n",
      "/mnt/shared_conda/envs/micro/lib/python3.6/site-packages/rpy2/rinterface/__init__.py:146: RRuntimeWarning: 1: Setting LC_TIME failed, using \"C\" \n",
      "\n",
      "  warnings.warn(x, RRuntimeWarning)\n",
      "/mnt/shared_conda/envs/micro/lib/python3.6/site-packages/rpy2/rinterface/__init__.py:146: RRuntimeWarning: 2: Setting LC_MONETARY failed, using \"C\" \n",
      "\n",
      "  warnings.warn(x, RRuntimeWarning)\n",
      "/mnt/shared_conda/envs/micro/lib/python3.6/site-packages/rpy2/rinterface/__init__.py:146: RRuntimeWarning: 3: Setting LC_PAPER failed, using \"C\" \n",
      "\n",
      "  warnings.warn(x, RRuntimeWarning)\n",
      "/mnt/shared_conda/envs/micro/lib/python3.6/site-packages/rpy2/rinterface/__init__.py:146: RRuntimeWarning: 4: Setting LC_MEASUREMENT failed, using \"C\" \n",
      "\n",
      "  warnings.warn(x, RRuntimeWarning)\n"
     ]
    }
   ],
   "source": [
    "%pylab inline\n",
    "%load_ext rpy2.ipython"
   ]
  },
  {
   "cell_type": "markdown",
   "metadata": {},
   "source": [
    "jupyter: \n",
    "\n",
    "/mnt/wagabi/ngslub18/jupyter_run\n",
    "\n",
    "- git clone https://github.com/macieksk/ngslub18.git\n",
    "- in byobu jupyter_run.sh xxxx # xxxx is unique port number for each user\n",
    "- ssh config:\n",
    "Host ngslub18\n",
    "    User wagabi\n",
    "    Hostname 147.228.242.15\n",
    "    ForwardX11 yes\n",
    "    LocalForward localhost:5xxxx localhost:xxxx\n"
   ]
  },
  {
   "cell_type": "code",
   "execution_count": 2,
   "metadata": {},
   "outputs": [
    {
     "name": "stdout",
     "output_type": "stream",
     "text": [
      "EM_abundance_eg_R\n",
      "NGSchool.ipynb\n",
      "NGSworkshop-Friday.ipynb\n",
      "NGSworkshop-Saturday.ipynb\n",
      "NGSworkshop.ipynb\n",
      "Snakefile\n",
      "dag.png\n",
      "debarcoded.BC01\n",
      "debarcoded.BC02\n",
      "debarcoded.BC05\n",
      "debarcoded.BC06\n",
      "debarcoded.BC08\n",
      "debarcoded.BC09\n",
      "debarcoded.none\n",
      "example.fasta\n",
      "example1.fasta\n",
      "example2.fasta\n",
      "example3.fasta\n",
      "example4.fasta\n",
      "example_p4.fasta\n",
      "example_p4.fastq\n",
      "firstfile.tsv\n",
      "joined.tsv\n",
      "jupyter_run.sh\n",
      "krona\n",
      "out1.tsv\n",
      "out2.tsv\n"
     ]
    }
   ],
   "source": [
    "%%bash\n",
    "ls"
   ]
  },
  {
   "cell_type": "code",
   "execution_count": 3,
   "metadata": {},
   "outputs": [
    {
     "data": {
      "text/latex": [
       "Equation:\n",
       "$$0=e^{i\\pi}-1$$"
      ],
      "text/plain": [
       "<IPython.core.display.Latex object>"
      ]
     },
     "metadata": {},
     "output_type": "display_data"
    }
   ],
   "source": [
    "%%latex\n",
    "Equation:\n",
    "$$0=e^{i\\pi}-1$$"
   ]
  },
  {
   "cell_type": "code",
   "execution_count": 4,
   "metadata": {},
   "outputs": [
    {
     "data": {
      "text/plain": [
       "matrix([[0, 1],\n",
       "        [2, 3]])"
      ]
     },
     "execution_count": 4,
     "metadata": {},
     "output_type": "execute_result"
    }
   ],
   "source": [
    "import numpy as np\n",
    "np.matrix([[0,1],[2,3]])"
   ]
  },
  {
   "cell_type": "code",
   "execution_count": 5,
   "metadata": {},
   "outputs": [
    {
     "name": "stdout",
     "output_type": "stream",
     "text": [
      "Populating the interactive namespace from numpy and matplotlib\n",
      "The rpy2.ipython extension is already loaded. To reload it, use:\n",
      "  %reload_ext rpy2.ipython\n"
     ]
    }
   ],
   "source": [
    "%pylab inline\n",
    "%load_ext rpy2.ipython\n",
    "# pip3 install --user matplotlib rpy2 pandas # in terminal if needed"
   ]
  },
  {
   "cell_type": "code",
   "execution_count": 6,
   "metadata": {},
   "outputs": [
    {
     "data": {
      "image/png": "[encoded data removed]"
     },
     "metadata": {},
     "output_type": "display_data"
    }
   ],
   "source": [
    "%%R -w 400 -h 400 -r 120\n",
    "plot(sample(1:10),col=sample(rainbow(10)),pch=8)"
   ]
  },
  {
   "cell_type": "markdown",
   "metadata": {},
   "source": [
    "### Practice #1\n",
    "#### What are best options for remote synchronization using *rsync*?"
   ]
  },
  {
   "cell_type": "markdown",
   "metadata": {},
   "source": []
  },
  {
   "cell_type": "markdown",
   "metadata": {},
   "source": [
    "### Prompts:\n",
    "- what about subfolders?\n",
    "- what about links in folders?\n",
    "- what about unchanged access permitions on each file (owner is owner)?"
   ]
  },
  {
   "cell_type": "markdown",
   "metadata": {},
   "source": [
    "\n",
    "* -a, --archive               archive mode; equals -rlptgoD (no -H,-A,-X)<br>\n",
    "* -r, --recursive             recurse into directories<br>\n",
    "* -l, --links                 copy symlinks as symlinks<br>\n",
    "* -p, --perms                 preserve permissions<br>\n",
    "* -t, --times                 preserve modification times<br>\n",
    "* -g, --group                 preserve group<br>\n",
    "     --devices               preserve device files (super-user only)<br>\n",
    "     --specials              preserve special files<br>\n",
    "* -D                          same as --devices --specials<br>\n",
    "* -o, --owner                 preserve owner (super-user only)<br>\n",
    "\n",
    "\n",
    "* -z, --compress              compress file data during the transfer\n",
    "     --compress-level=NUM    explicitly set compression level   ex. 9\n",
    "* --partial-dir=DIR       put a partially transferred file into DIR\n",
    "* --partial               keep partially transferred files  \n",
    "* -h, --human-readable        output numbers in a human-readable format\n",
    "* --no-o \n",
    "* --groupmap=*:GROUPONREMOTE \n",
    "* --chmod=Dg+s,ug+r,go-w,o-rwx to change permision\n",
    "\n",
    "Incremental recursion can be disabled using the --no-inc-recursive\n",
    "    option or its shorter --no-i-r alias. \n",
    "\n"
   ]
  },
  {
   "cell_type": "code",
   "execution_count": null,
   "metadata": {},
   "outputs": [],
   "source": []
  },
  {
   "cell_type": "code",
   "execution_count": null,
   "metadata": {},
   "outputs": [],
   "source": []
  },
  {
   "cell_type": "markdown",
   "metadata": {},
   "source": [
    "### Practise #2\n",
    "#### What options need to be added to run rsync live... safely?"
   ]
  },
  {
   "cell_type": "markdown",
   "metadata": {},
   "source": [
    "### Prompts:\n",
    "- what about half-created files?\n",
    "- when to finish coping?"
   ]
  },
  {
   "cell_type": "markdown",
   "metadata": {},
   "source": [
    "- -partial-dir=DIR       put a partially transferred file into DIR\n",
    "- -partial               keep partially transferred files\n"
   ]
  },
  {
   "cell_type": "code",
   "execution_count": null,
   "metadata": {},
   "outputs": [],
   "source": []
  },
  {
   "cell_type": "markdown",
   "metadata": {},
   "source": [
    "#### *How to rsync only files in fastq format"
   ]
  },
  {
   "cell_type": "code",
   "execution_count": null,
   "metadata": {},
   "outputs": [],
   "source": []
  },
  {
   "cell_type": "code",
   "execution_count": null,
   "metadata": {},
   "outputs": [],
   "source": [
    "## Please update snakemake in terminal\n",
    "pip3 install --user --upgrade snakemake"
   ]
  },
  {
   "cell_type": "markdown",
   "metadata": {},
   "source": [
    "## Example #1\n",
    "Divide file into 3 equal files."
   ]
  },
  {
   "cell_type": "code",
   "execution_count": null,
   "metadata": {},
   "outputs": [],
   "source": [
    "#https://stackoverflow.com/questions/21034373/how-to-load-edit-run-save-text-files-py-into-an-ipython-notebook-cell"
   ]
  },
  {
   "cell_type": "code",
   "execution_count": 59,
   "metadata": {},
   "outputs": [
    {
     "name": "stdout",
     "output_type": "stream",
     "text": [
      "Writing example.fasta\n"
     ]
    }
   ],
   "source": [
    "%%writefile example.fasta\n",
    ">1\n",
    "ACGT\n",
    ">2\n",
    "GCTA\n",
    ">3\n",
    "TTTT\n",
    ">4\n",
    "ACCC"
   ]
  },
  {
   "cell_type": "code",
   "execution_count": 60,
   "metadata": {},
   "outputs": [
    {
     "name": "stdout",
     "output_type": "stream",
     "text": [
      "Overwriting Snakefile\n"
     ]
    }
   ],
   "source": [
    "%%writefile Snakefile\n",
    "\n",
    "rule divide_into_3:\n",
    "    input: seq=\"{name}.fasta\",\n",
    "    output: seq1=\"{name}1.fasta\",\n",
    "            seq2=\"{name}2.fasta\",\n",
    "            seq3=\"{name}3.fasta\",            \n",
    "    shell: \"\"\"\n",
    "        awk '{{nr=int((NR-1)/2)%3+1; x=\"{wildcards.name}\"nr\".fasta\";}}{{print > x}}' \"{input.seq}\"\n",
    "    \"\"\" # (this string goes through .format(snake_variables_dictionary))\n",
    "    "
   ]
  },
  {
   "cell_type": "code",
   "execution_count": 61,
   "metadata": {
    "scrolled": true
   },
   "outputs": [
    {
     "name": "stdout",
     "output_type": "stream",
     "text": [
      "==> example1.fasta <==\n",
      ">1\n",
      "ACGT\n",
      ">4\n",
      "ACCC\n",
      "\n",
      "==> example2.fasta <==\n",
      ">2\n",
      "GCTA\n",
      "\n",
      "==> example3.fasta <==\n",
      ">3\n",
      "TTTT\n"
     ]
    },
    {
     "name": "stderr",
     "output_type": "stream",
     "text": [
      "Provided cores: 1\n",
      "Rules claiming more threads will be scaled down.\n",
      "Job counts:\n",
      "\tcount\tjobs\n",
      "\t1\tdivide_into_3\n",
      "\t1\n",
      "rule divide_into_3:\n",
      "\tinput: example.fasta\n",
      "\toutput: example1.fasta, example2.fasta, example3.fasta\n",
      "1 of 1 steps (100%) done\n"
     ]
    }
   ],
   "source": [
    "%%bash\n",
    "snakemake example3.fasta -f && tail -n +1 example{1,2,3}.fasta"
   ]
  },
  {
   "cell_type": "code",
   "execution_count": null,
   "metadata": {},
   "outputs": [],
   "source": []
  },
  {
   "cell_type": "markdown",
   "metadata": {},
   "source": [
    "### Practise #3"
   ]
  },
  {
   "cell_type": "code",
   "execution_count": null,
   "metadata": {},
   "outputs": [],
   "source": [
    "%%writefile Snakefile\n",
    "# TASK write \n",
    "# Warning, please generate strings (output list, shell) using + operator on strings, not .format function (ask for explanation why :)\n",
    "n=5\n",
    "rule divide_into_n:\n",
    "    ..."
   ]
  },
  {
   "cell_type": "code",
   "execution_count": null,
   "metadata": {},
   "outputs": [],
   "source": []
  },
  {
   "cell_type": "code",
   "execution_count": null,
   "metadata": {},
   "outputs": [],
   "source": []
  },
  {
   "cell_type": "code",
   "execution_count": null,
   "metadata": {},
   "outputs": [],
   "source": []
  },
  {
   "cell_type": "markdown",
   "metadata": {},
   "source": [
    "## Example 2\n",
    "Case when the number of outputs is unknown or large. If all downstream rules rely on the whole sets of outputs, rather than on the individual files, and when we want to create output for for example every sample we have, 'dynamic' keyword.\n",
    "This rule will launch other rules which are necessary to create files. \n"
   ]
  },
  {
   "cell_type": "code",
   "execution_count": null,
   "metadata": {},
   "outputs": [],
   "source": [
    "rule all_centrifuge_aggregated:\n",
    "    input:[dynamic(\"{{numer}}/{{number}}.from_centrifuge\".format(suffix)) for suffix in [\"noEuca__krona.html\", \"classification_krona.html\"]]\n"
   ]
  },
  {
   "cell_type": "code",
   "execution_count": null,
   "metadata": {},
   "outputs": [],
   "source": []
  },
  {
   "cell_type": "markdown",
   "metadata": {},
   "source": [
    "## Practice 3\n",
    "### Snakemake\n",
    "\n",
    "Using snakemake create 3 rules that enable creation of:\n",
    "1. ...150 random sequences in FASTA format (each from 50 to 100bp). Put them randomly in 3 files, so that each file contains 100 sequences (sequences can be repeated in files or even in one file). PYTHON lub bas (shuff)\n",
    "2. ... another file (tab separated) containing any sequence that occurred in the files and at least: the number of different files in which it was placed, and the number of all counts. SHELL\n",
    "3. ... interesting histograms based on 4th file (each sequence in the number of files). R"
   ]
  },
  {
   "cell_type": "code",
   "execution_count": 92,
   "metadata": {},
   "outputs": [
    {
     "name": "stdout",
     "output_type": "stream",
     "text": [
      "Overwriting Snakefile\n"
     ]
    }
   ],
   "source": [
    "%%writefile Snakefile\n",
    "\n",
    "rule make_first:\n",
    "    output: tsv=\"firstfile.tsv\"\n",
    "    run: open(output.tsv,\"w\").writelines([\"123\\n\",\"456\\n\"])\n",
    "        \n",
    "rule split_file1:\n",
    "    input: rules.make_first.output\n",
    "    output:\"out1.tsv\"\n",
    "    shell: \"\"\" \n",
    "            head -n 1 < \"{input}\" > \"{output}\"\n",
    "    \"\"\"\n",
    "        \n",
    "rule split_file2:\n",
    "    input:rules.make_first.output\n",
    "    output:\"out2.tsv\"\n",
    "    shell: \"\"\"         \n",
    "            tail -n 1 < \"{input}\" > \"{output}\"\n",
    "    \"\"\"\n",
    "        \n",
    "rule join_file:\n",
    "    input: i1=\"out1.tsv\",i2=\"out2.tsv\",\n",
    "    output: join=\"joined.tsv\"\n",
    "    shell: \"\"\" cat \"{input.i2}\" \"{input.i1}\" > \"{output.join}\" \"\"\"\n",
    "                "
   ]
  },
  {
   "cell_type": "code",
   "execution_count": 93,
   "metadata": {
    "scrolled": true
   },
   "outputs": [
    {
     "name": "stdout",
     "output_type": "stream",
     "text": [
      "456\n",
      "123\n"
     ]
    },
    {
     "name": "stderr",
     "output_type": "stream",
     "text": [
      "Building DAG of jobs...\n",
      "candidate job join_file\n",
      "\twildcards: \n",
      "candidate job split_file1\n",
      "\twildcards: \n",
      "candidate job make_first\n",
      "\twildcards: \n",
      "selected job make_first\n",
      "\twildcards: \n",
      "selected job split_file1\n",
      "\twildcards: \n",
      "candidate job split_file2\n",
      "\twildcards: \n",
      "candidate job make_first\n",
      "\twildcards: \n",
      "selected job make_first\n",
      "\twildcards: \n",
      "selected job split_file2\n",
      "\twildcards: \n",
      "selected job join_file\n",
      "\twildcards: \n",
      "Using shell: /bin/bash\n",
      "Provided cores: 1\n",
      "Rules claiming more threads will be scaled down.\n",
      "Job counts:\n",
      "\tcount\tjobs\n",
      "\t1\tjoin_file\n",
      "\t1\tsplit_file1\n",
      "\t1\tsplit_file2\n",
      "\t3\n",
      "\n",
      "[Tue Sep 18 16:11:51 2018]\n",
      "rule split_file1:\n",
      "    input: firstfile.tsv\n",
      "    output: out1.tsv\n",
      "    jobid: 1\n",
      "\n",
      "[Tue Sep 18 16:11:51 2018]\n",
      "Finished job 1.\n",
      "1 of 3 steps (33%) done\n",
      "\n",
      "[Tue Sep 18 16:11:51 2018]\n",
      "rule split_file2:\n",
      "    input: firstfile.tsv\n",
      "    output: out2.tsv\n",
      "    jobid: 2\n",
      "\n",
      "[Tue Sep 18 16:11:51 2018]\n",
      "Finished job 2.\n",
      "2 of 3 steps (67%) done\n",
      "\n",
      "[Tue Sep 18 16:11:51 2018]\n",
      "rule join_file:\n",
      "    input: out1.tsv, out2.tsv\n",
      "    output: joined.tsv\n",
      "    jobid: 0\n",
      "\n",
      "[Tue Sep 18 16:11:51 2018]\n",
      "Finished job 0.\n",
      "3 of 3 steps (100%) done\n",
      "Complete log: /mnt/wagabi/ngslub18/jupyter_run/.snakemake/log/2018-09-18T161151.690806.snakemake.log\n"
     ]
    }
   ],
   "source": [
    "%%bash\n",
    "\n",
    "snakemake joined.tsv -f --debug-dag && cat joined.tsv"
   ]
  },
  {
   "cell_type": "code",
   "execution_count": 101,
   "metadata": {},
   "outputs": [
    {
     "name": "stderr",
     "output_type": "stream",
     "text": [
      "Building DAG of jobs...\n"
     ]
    }
   ],
   "source": [
    "%%bash\n",
    "# wajig install graphviz\n",
    "\n",
    "#dot -h\n",
    "snakemake joined.tsv -F --dag |dot -T png > dag.png  #--d3dag"
   ]
  },
  {
   "cell_type": "markdown",
   "metadata": {},
   "source": [
    "![](dag.png)"
   ]
  },
  {
   "cell_type": "markdown",
   "metadata": {},
   "source": [
    "### Practise #4\n",
    "Convert fastq file into fasta."
   ]
  },
  {
   "cell_type": "code",
   "execution_count": 3,
   "metadata": {},
   "outputs": [
    {
     "name": "stdout",
     "output_type": "stream",
     "text": [
      "Writing example_p4.fastq\n"
     ]
    }
   ],
   "source": [
    "%%writefile example_p4.fastq\n",
    "@SEQ_ID\n",
    "AGTTTGGGGTTCAAAGCAGTATCGATCAAATAGTAAATCCATTTGTTCAACTCACAGTTT\n",
    "+\n",
    "!''*((((***+))%%%++)(%%%%).1***-+*''))**55CCF>>>>>>CCCCCCC65\n",
    "@SEQ_ID2\n",
    "AGTTTGGGGTTCAAAGCAGTATCGATCAAATAGTAAATCCATTTGTTCAACTCACAGTCC\n",
    "+\n",
    "!''*((((***+))%%%++)(%%%%).1***-+*''))**55CCF>>>>>>CCC>>CC6C"
   ]
  },
  {
   "cell_type": "code",
   "execution_count": null,
   "metadata": {},
   "outputs": [],
   "source": [
    "%%writefile Snakefile\n",
    "\n",
    "rule make_first:\n",
    "    output: tsv=\"firstfile.tsv\"\n",
    "    run: open(output.tsv,\"w\").writelines([\"123\\n\",\"456\\n\"])"
   ]
  },
  {
   "cell_type": "code",
   "execution_count": null,
   "metadata": {},
   "outputs": [],
   "source": []
  },
  {
   "cell_type": "markdown",
   "metadata": {},
   "source": [
    "### Practice #5\n",
    "\n",
    "Get randomly 10% of data from fasta file (2 lines == one record, don’t split it!). \n",
    "\n",
    "Pseudorandom != random"
   ]
  },
  {
   "cell_type": "code",
   "execution_count": 6,
   "metadata": {},
   "outputs": [
    {
     "data": {
      "text/plain": [
       "1"
      ]
     },
     "execution_count": 6,
     "metadata": {},
     "output_type": "execute_result"
    }
   ],
   "source": [
    "1"
   ]
  },
  {
   "cell_type": "code",
   "execution_count": 9,
   "metadata": {},
   "outputs": [
    {
     "name": "stdout",
     "output_type": "stream",
     "text": [
      "Overwriting Snakefile\n"
     ]
    }
   ],
   "source": [
    "%%writefile Snakefile\n",
    "        \n",
    "        \n",
    "rule fastq_to_fasta:\n",
    "    input: fq=\"{pref}.fastq\"\n",
    "    output: fa=\"{pref}.fasta\"\n",
    "    shell: \"\"\" \n",
    "        cat \"{input.fq}\" | fastq_to_fasta.sh > \"{output.fa}\"   \n",
    "\"\"\"\n",
    "\n",
    "rule fastqgz_to_fasta:\n",
    "    input: fq=\"{pref}.fastq.gz\"\n",
    "    output: fa=\"{pref}.fasta\"\n",
    "    shell: \"\"\" \n",
    "        pigz -dc \"{input.fq}\" | fastq_to_fasta.sh > \"{output.fa}\"   \n",
    "\"\"\"\n",
    "\n",
    "\n",
    "config['BLASTBIN']=\"blastn\" #/mnt/zgmvol/environment/software/sources/genXone/ncbi-blast-2.7.1+-src/c++/ReleaseMT/bin/blastn\"\n",
    "config['BLASTDB']=\"/mnt/wagabi/microb_database/16SMicrobial\"\n",
    "\n",
    "#config['BLAST_HEADINP']=10\n",
    "\n",
    "rule run_blastn:\n",
    "    input: fa=\"{pref}.fasta\"\n",
    "    output: tsv=\"{pref}.blastn.mts{mts_value}.tsv\"\n",
    "    params: max_hsps=1,\n",
    "            #max_target_seqs=1,\n",
    "            #max_target_seqs=lambda wildcards: wildcards.mts_value,\n",
    "            word_size=15,\n",
    "            evalue=\"1e-3\",\n",
    "            outfmt='6 qseqid sseqid staxids bitscore length qlen mismatch score evalue',\n",
    "            head=\"head -n {}\".format(config['BLAST_HEADINP']) if 'BLAST_HEADINP' in config else \"cat\",\n",
    "    threads: 8           \n",
    "    shell: \"\"\"\n",
    "        \"{config[BLASTBIN]}\" -num_threads \"{threads}\" -evalue \"{params.evalue}\" \\\n",
    "           -word_size {params.word_size} -max_hsps {params.max_hsps} \\\n",
    "         -max_target_seqs \"{wildcards.mts_value}\" \\\n",
    "         -db \"{config[BLASTDB]}\" -query <({params.head} {input.fa}) -outfmt \"{params.outfmt}\" \\\n",
    "          | tee >(wc -l >&2) > \"{output.tsv}\"\n",
    "    \"\"\"\n",
    "        #-max_target_seqs {params.max_target_seqs} \\\n",
    "\n",
    "rule krona_from_blast_direct:\n",
    "    input:\n",
    "        classification=\"{name}.blastn.{paramset,mts.+}.tsv\",        \n",
    "    output:\n",
    "        krona_output=\"{name}.blastn.{paramset}.krona.html\",\n",
    "        krona_output_files=temp(directory(\"{name}.blastn.{paramset}.krona.html.files/\")), # Delete after producing\n",
    "    threads: 1 # 8\n",
    "    params:\n",
    "        krona_bin=\"ktImportTaxonomy\",\n",
    "        tax=\"/mnt/wagabi/data/taxonomy\",\n",
    "        #krona_q=3, #1? from cf?  #-q \"{params.krona_q}\" \\ \n",
    "        krona_t=3,\n",
    "        krona_s=4,\n",
    "        krona_m=10, # Use column of 1 as magnitude\n",
    "    shell:  \"\"\"\n",
    "        \"{params.krona_bin}\" \\\n",
    "            -tax \"{params.tax}\" \\\n",
    "            -t \"{params.krona_t}\" \\\n",
    "            -s \"{params.krona_s}\" \\\n",
    "            -m \"{params.krona_m}\" \\\n",
    "            <( awk '{{OFS=\"\\t\";$1=$1;print $0,1}}' < \"{input.classification}\" ) \\\n",
    "            -o \"{output.krona_output}\"\n",
    "        \"\"\"\n",
    "               \n",
    "#    run: if params.max_hsps=1: pass\n",
    "#         else: \n",
    "#            print('fdsf')\n",
    "#         print(input.fa)\n",
    "#         print(output.tsv)\n",
    "    \n",
    "        \n",
    "#-num_threads 32 -evalue 1e3 -word_size 15 -max_hsps 1 -max_target_seqs 1 #5\n",
    "#-db path_to_baza -query input.fasta -outfmt out > output.tsv        \n",
    "\n",
    "#Download database from: ftp://ftp.ncbi.nlm.nih.gov/blast/db/16SMicrobial.tar.gz\n",
    "\n",
    "\n",
    "#Run Blast (snakemake rule): out='6 qseqid sseqid staxids bitscore length qlen mismatch score evalue'\n",
    "        \n",
    "#shell: rules.bed_from_ma_depth.rule.shellcmd\n",
    "        \n",
    "        \n",
    "        \n",
    "        \n",
    "                "
   ]
  },
  {
   "cell_type": "code",
   "execution_count": null,
   "metadata": {},
   "outputs": [],
   "source": [
    "snakemake debarcoded.BC01/BC01.blastn.mst1.tsv\n",
    "snakemake debarcoded.BC01/BC01.blastn.mst5.tsv"
   ]
  },
  {
   "cell_type": "markdown",
   "metadata": {},
   "source": [
    "## BLAST"
   ]
  },
  {
   "cell_type": "markdown",
   "metadata": {},
   "source": [
    "### Practice #7\n",
    "What options of BLAST could help improved outputs for nanopore data?"
   ]
  },
  {
   "cell_type": "markdown",
   "metadata": {},
   "source": [
    "paramset:\n",
    "- -task blastn/blastp/tblastn/blastx\n",
    "- -num_threads \n",
    "- -db\n",
    "- -max_target_seqs  \n",
    "- -evalue\n",
    "- -word_size \n",
    "- -max_hsps  \n",
    "- -outfmt\n",
    "    - %f means sequence in FASTA format\n",
    "    - %s means sequence data (without defline)\n",
    "    - %l means sequence length\n",
    "    - %T means taxid\n",
    "    - %L means common taxonomic name"
   ]
  },
  {
   "cell_type": "markdown",
   "metadata": {},
   "source": []
  },
  {
   "cell_type": "markdown",
   "metadata": {},
   "source": [
    "### Practice #8\n",
    "#### RUN BLAST"
   ]
  },
  {
   "cell_type": "markdown",
   "metadata": {},
   "source": [
    "\n",
    "0. Download database from:\n",
    "ftp://ftp.ncbi.nlm.nih.gov/blast/db/16SMicrobial.tar.gz\n",
    "\n",
    "1. Prepare sample:\n",
    "fastq into fasta\n",
    "\n",
    "2. Run Blast (snakemake rule):\n",
    "out='6 qseqid sseqid staxids bitscore length qlen mismatch score evalue'\n",
    "\n",
    "/mnt/zgmvol/environment/software/sources/genXone/ncbi-blast-2.7.1+-src/c++/ReleaseMT/bin/blastn   -num_threads 32    -evalue  1e3      -word_size 15    -max_hsps  1     -max_target_seqs 5\n",
    "-db path_to_baza    -query input.fasta \n",
    "-outfmt out > output.tsv\n",
    "\n",
    "3. Count \n",
    "datamash --sort -g 3 count 3 mean 4 median 4 mean 5 median 5 < \"{input.datain}\" | sort -k 2rn,2 -k 1 > \"{output.dataout}\"  #BLAST_OUTPUT='6 qseqid sseqid staxids bitscore length qlen mismatch score evalue'\n",
    "\n",
    "4. from blast to krakn\n",
    "awk 'BEGIN{{ print \"readID\\tseqID\\ttaxID\\tscore\\t2ndBestScore\\thitLength\\tqueryLength\\tnumMatches\"; FS=\"\\t\"; OFS=\"\\t\";}}{{print   $1, $2,$3, $8, 0, $5, $6, 1 }} ' \"{input.datain}\" > \"{output.dataout}\" && centrifuge-kreport -x \"{params.db}\" \"{output.dataout}\" > \"{output.krakn}\"\n"
   ]
  },
  {
   "cell_type": "code",
   "execution_count": null,
   "metadata": {},
   "outputs": [],
   "source": []
  },
  {
   "cell_type": "code",
   "execution_count": null,
   "metadata": {},
   "outputs": [],
   "source": []
  },
  {
   "cell_type": "markdown",
   "metadata": {},
   "source": [
    "### Practice #9\n",
    "1. Pavian\n",
    "\n",
    "- Check how many Bacterial and Viral reads are in sample. \n",
    "- Create visualization in the form of a text and graphical tree. \n",
    "- Compare 2 samples in PAVIAN. Create CSV and TSV file with this comparison. \n",
    "\n",
    "2. Krona\n",
    "- Compare results from KRONA and Pavian. Where are the defferences?\n"
   ]
  },
  {
   "cell_type": "code",
   "execution_count": null,
   "metadata": {},
   "outputs": [],
   "source": []
  },
  {
   "cell_type": "code",
   "execution_count": null,
   "metadata": {},
   "outputs": [],
   "source": [
    "#### PCA"
   ]
  },
  {
   "cell_type": "code",
   "execution_count": 12,
   "metadata": {},
   "outputs": [
    {
     "name": "stdout",
     "output_type": "stream",
     "text": [
      "debarcoded.BC01\n",
      "debarcoded.BC02\n",
      "debarcoded.BC05\n",
      "debarcoded.BC06\n",
      "debarcoded.BC09\n",
      "debarcoded.none\n"
     ]
    }
   ],
   "source": [
    "%%bash\n",
    "ls results.ngslub"
   ]
  },
  {
   "cell_type": "code",
   "execution_count": 19,
   "metadata": {},
   "outputs": [],
   "source": [
    "%%R\n",
    "p<-function(...,sep=\"\")paste(...,sep=sep)"
   ]
  },
  {
   "cell_type": "code",
   "execution_count": 23,
   "metadata": {},
   "outputs": [
    {
     "name": "stdout",
     "output_type": "stream",
     "text": [
      "R Help on ‘grep’grep                   package:base                    R Documentation\n",
      "\n",
      "_\bP_\ba_\bt_\bt_\be_\br_\bn _\bM_\ba_\bt_\bc_\bh_\bi_\bn_\bg _\ba_\bn_\bd _\bR_\be_\bp_\bl_\ba_\bc_\be_\bm_\be_\bn_\bt\n",
      "\n",
      "_\bD_\be_\bs_\bc_\br_\bi_\bp_\bt_\bi_\bo_\bn:\n",
      "\n",
      "     ‘grep’, ‘grepl’, ‘regexpr’, ‘gregexpr’ and ‘regexec’ search for\n",
      "     matches to argument ‘pattern’ within each element of a character\n",
      "     vector: they differ in the format of and amount of detail in the\n",
      "     results.\n",
      "\n",
      "     ‘sub’ and ‘gsub’ perform replacement of the first and all matches\n",
      "     respectively.\n",
      "\n",
      "_\bU_\bs_\ba_\bg_\be:\n",
      "\n",
      "     grep(pattern, x, ignore.case = FALSE, perl = FALSE, value = FALSE,\n",
      "          fixed = FALSE, useBytes = FALSE, invert = FALSE)\n",
      "     \n",
      "     grepl(pattern, x, ignore.case = FALSE, perl = FALSE,\n",
      "           fixed = FALSE, useBytes = FALSE)\n",
      "     \n",
      "     sub(pattern, replacement, x, ignore.case = FALSE, perl = FALSE,\n",
      "         fixed = FALSE, useBytes = FALSE)\n",
      "     \n",
      "     gsub(pattern, replacement, x, ignore.case = FALSE, perl = FALSE,\n",
      "          fixed = FALSE, useBytes = FALSE)\n",
      "     \n",
      "     regexpr(pattern, text, ignore.case = FALSE, perl = FALSE,\n",
      "             fixed = FALSE, useBytes = FALSE)\n",
      "     \n",
      "     gregexpr(pattern, text, ignore.case = FALSE, perl = FALSE,\n",
      "              fixed = FALSE, useBytes = FALSE)\n",
      "     \n",
      "     regexec(pattern, text, ignore.case = FALSE, perl = FALSE,\n",
      "             fixed = FALSE, useBytes = FALSE)\n",
      "     \n",
      "_\bA_\br_\bg_\bu_\bm_\be_\bn_\bt_\bs:\n",
      "\n",
      " pattern: character string containing a regular expression (or\n",
      "          character string for ‘fixed = TRUE’) to be matched in the\n",
      "          given character vector.  Coerced by ‘as.character’ to a\n",
      "          character string if possible.  If a character vector of\n",
      "          length 2 or more is supplied, the first element is used with\n",
      "          a warning.  Missing values are allowed except for ‘regexpr’\n",
      "          and ‘gregexpr’.\n",
      "\n",
      " x, text: a character vector where matches are sought, or an object\n",
      "          which can be coerced by ‘as.character’ to a character vector.\n",
      "          Long vectors are supported.\n",
      "\n",
      "ignore.case: if ‘FALSE’, the pattern matching is _case sensitive_ and\n",
      "          if ‘TRUE’, case is ignored during matching.\n",
      "\n",
      "    perl: logical.  Should Perl-compatible regexps be used?\n",
      "\n",
      "   value: if ‘FALSE’, a vector containing the (‘integer’) indices of\n",
      "          the matches determined by ‘grep’ is returned, and if ‘TRUE’,\n",
      "          a vector containing the matching elements themselves is\n",
      "          returned.\n",
      "\n",
      "   fixed: logical.  If ‘TRUE’, ‘pattern’ is a string to be matched as\n",
      "          is.  Overrides all conflicting arguments.\n",
      "\n",
      "useBytes: logical.  If ‘TRUE’ the matching is done byte-by-byte rather\n",
      "          than character-by-character.  See ‘Details’.\n",
      "\n",
      "  invert: logical.  If ‘TRUE’ return indices or values for elements\n",
      "          that do _not_ match.\n",
      "\n",
      "replacement: a replacement for matched pattern in ‘sub’ and ‘gsub’.\n",
      "          Coerced to character if possible.  For ‘fixed = FALSE’ this\n",
      "          can include backreferences ‘\"\\1\"’ to ‘\"\\9\"’ to parenthesized\n",
      "          subexpressions of ‘pattern’.  For ‘perl = TRUE’ only, it can\n",
      "          also contain ‘\"\\U\"’ or ‘\"\\L\"’ to convert the rest of the\n",
      "          replacement to upper or lower case and ‘\"\\E\"’ to end case\n",
      "          conversion.  If a character vector of length 2 or more is\n",
      "          supplied, the first element is used with a warning.  If ‘NA’,\n",
      "          all elements in the result corresponding to matches will be\n",
      "          set to ‘NA’.\n",
      "\n",
      "_\bD_\be_\bt_\ba_\bi_\bl_\bs:\n",
      "\n",
      "     Arguments which should be character strings or character vectors\n",
      "     are coerced to character if possible.\n",
      "\n",
      "     Each of these functions operates in one of three modes:\n",
      "\n",
      "       1. ‘fixed = TRUE’: use exact matching.\n",
      "\n",
      "       2. ‘perl = TRUE’: use Perl-style regular expressions.\n",
      "\n",
      "       3. ‘fixed = FALSE, perl = FALSE’: use POSIX 1003.2 extended\n",
      "          regular expressions.\n",
      "\n",
      "     See the help pages on regular expression for details of the\n",
      "     different types of regular expressions.\n",
      "\n",
      "     The two ‘*sub’ functions differ only in that ‘sub’ replaces only\n",
      "     the first occurrence of a ‘pattern’ whereas ‘gsub’ replaces all\n",
      "     occurrences.  If ‘replacement’ contains backreferences which are\n",
      "     not defined in ‘pattern’ the result is undefined (but most often\n",
      "     the backreference is taken to be ‘\"\"’).\n",
      "\n",
      "     For ‘regexpr’, ‘gregexpr’ and ‘regexec’ it is an error for\n",
      "     ‘pattern’ to be ‘NA’, otherwise ‘NA’ is permitted and gives an\n",
      "     ‘NA’ match.\n",
      "\n",
      "     The main effect of ‘useBytes’ is to avoid errors/warnings about\n",
      "     invalid inputs and spurious matches in multibyte locales, but for\n",
      "     ‘regexpr’ it changes the interpretation of the output.  It\n",
      "     inhibits the conversion of inputs with marked encodings, and is\n",
      "     forced if any input is found which is marked as ‘\"bytes\"’ see\n",
      "     ‘Encoding’).\n",
      "\n",
      "     Caseless matching does not make much sense for bytes in a\n",
      "     multibyte locale, and you should expect it only to work for ASCII\n",
      "     characters if ‘useBytes = TRUE’.\n",
      "\n",
      "     ‘regexpr’ and ‘gregexpr’ with ‘perl = TRUE’ allow Python-style\n",
      "     named captures, but not for _long vector_ inputs.\n",
      "\n",
      "     Invalid inputs in the current locale are warned about up to 5\n",
      "     times.\n",
      "\n",
      "     Caseless matching with ‘perl = TRUE’ for non-ASCII characters\n",
      "     depends on the PCRE library being compiled with ‘Unicode property\n",
      "     support’: an external library might not be.\n",
      "\n",
      "_\bV_\ba_\bl_\bu_\be:\n",
      "\n",
      "     ‘grep(value = FALSE)’ returns a vector of the indices of the\n",
      "     elements of ‘x’ that yielded a match (or not, for ‘invert = TRUE’.\n",
      "     This will be an integer vector unless the input is a _long\n",
      "     vector_, when it will be a double vector.\n",
      "\n",
      "     ‘grep(value = TRUE)’ returns a character vector containing the\n",
      "     selected elements of ‘x’ (after coercion, preserving names but no\n",
      "     other attributes).\n",
      "\n",
      "     ‘grepl’ returns a logical vector (match or not for each element of\n",
      "     ‘x’).\n",
      "\n",
      "     For ‘sub’ and ‘gsub’ return a character vector of the same length\n",
      "     and with the same attributes as ‘x’ (after possible coercion to\n",
      "     character).  Elements of character vectors ‘x’ which are not\n",
      "     substituted will be returned unchanged (including any declared\n",
      "     encoding).  If ‘useBytes = FALSE’ a non-ASCII substituted result\n",
      "     will often be in UTF-8 with a marked encoding (e.g., if there is a\n",
      "     UTF-8 input, and in a multibyte locale unless ‘fixed = TRUE’).\n",
      "     Such strings can be re-encoded by ‘enc2native’.\n",
      "\n",
      "     ‘regexpr’ returns an integer vector of the same length as ‘text’\n",
      "     giving the starting position of the first match or -1 if there is\n",
      "     none, with attribute ‘\"match.length\"’, an integer vector giving\n",
      "     the length of the matched text (or -1 for no match).  The match\n",
      "     positions and lengths are in characters unless ‘useBytes = TRUE’\n",
      "     is used, when they are in bytes.  If named capture is used there\n",
      "     are further attributes ‘\"capture.start\"’, ‘\"capture.length\"’ and\n",
      "     ‘\"capture.names\"’.\n",
      "\n",
      "     ‘gregexpr’ returns a list of the same length as ‘text’ each\n",
      "     element of which is of the same form as the return value for\n",
      "     ‘regexpr’, except that the starting positions of every (disjoint)\n",
      "     match are given.\n",
      "\n",
      "     ‘regexec’ returns a list of the same length as ‘text’ each element\n",
      "     of which is either -1 if there is no match, or a sequence of\n",
      "     integers with the starting positions of the match and all\n",
      "     substrings corresponding to parenthesized subexpressions of\n",
      "     ‘pattern’, with attribute ‘\"match.length\"’ a vector giving the\n",
      "     lengths of the matches (or -1 for no match).\n",
      "\n",
      "     Where matching failed because of resource limits (especially for\n",
      "     PCRE) this is regarded as a non-match, usually with a warning.\n",
      "\n",
      "_\bW_\ba_\br_\bn_\bi_\bn_\bg:\n",
      "\n",
      "     POSIX 1003.2 mode of ‘gsub’ and ‘gregexpr’ does not work correctly\n",
      "     with repeated word-boundaries (e.g., ‘pattern = \"\\b\"’).  Use ‘perl\n",
      "     = TRUE’ for such matches (but that may not work as expected with\n",
      "     non-ASCII inputs, as the meaning of ‘word’ is system-dependent).\n",
      "\n",
      "_\bP_\be_\br_\bf_\bo_\br_\bm_\ba_\bn_\bc_\be _\bc_\bo_\bn_\bs_\bi_\bd_\be_\br_\ba_\bt_\bi_\bo_\bn_\bs:\n",
      "\n",
      "     If you are doing a lot of regular expression matching, including\n",
      "     on very long strings, you will want to consider the options used.\n",
      "     Generally PCRE will be faster than the default regular expression\n",
      "     engine, and ‘fixed = TRUE’ faster still (especially when each\n",
      "     pattern is matched only a few times).\n",
      "\n",
      "     If you are working in a single-byte locale and have marked UTF-8\n",
      "     strings that are representable in that locale, convert them first\n",
      "     as just one UTF-8 string will force all the matching to be done in\n",
      "     Unicode, which attracts a penalty of around 3x for the default\n",
      "     POSIX 1003.2 mode.\n",
      "\n",
      "     If you can make use of ‘useBytes = TRUE’, the strings will not be\n",
      "     checked before matching, and the actual matching will be faster.\n",
      "     Often byte-based matching suffices in a UTF-8 locale since byte\n",
      "     patterns of one character never match part of another.\n",
      "\n",
      "     PCRE-based matching by default puts additional effort into\n",
      "     ‘studying’ the compiled pattern when ‘x’/‘text’ has length at\n",
      "     least 10.  As from R 3.4.0 that study may use the PCRE JIT\n",
      "     compiler on platforms where it is available (see ‘pcre_config’).\n",
      "     The details are controlled by ‘options’ ‘PCRE_study’ and\n",
      "     ‘PCRE_use_JIT’.  (Some timing comparisons can be seen by running\n",
      "     file ‘tests/PCRE.R’ in the R sources (and perhaps installed).)\n",
      "     People working with PCRE and very long strings can adjust the\n",
      "     maximum size of the JIT stack by setting environment variable\n",
      "     ‘R_PCRE_JIT_STACK_MAXSIZE’ before JIT is used to a value between\n",
      "     ‘1’ and ‘1000’ in MB: the default is ‘64’.  (Then would usually be\n",
      "     wise to set the option ‘PCRE_limit_recursion’.)\n",
      "\n",
      "_\bS_\bo_\bu_\br_\bc_\be:\n",
      "\n",
      "     The C code for POSIX-style regular expression matching has changed\n",
      "     over the years.  As from R 2.10.0 (Oct 2009) the TRE library of\n",
      "     Ville Laurikari (<URL: http://laurikari.net/tre/>) is used.  The\n",
      "     POSIX standard does give some room for interpretation, especially\n",
      "     in the handling of invalid regular expressions and the collation\n",
      "     of character ranges, so the results will have changed slightly\n",
      "     over the years.\n",
      "\n",
      "     For Perl-style matching PCRE (<URL: http://www.pcre.org>) is used.\n",
      "\n",
      "_\bR_\be_\bf_\be_\br_\be_\bn_\bc_\be_\bs:\n",
      "\n",
      "     Becker, R. A., Chambers, J. M. and Wilks, A. R. (1988) _The New S\n",
      "     Language_.  Wadsworth & Brooks/Cole (‘grep’)\n",
      "\n",
      "_\bS_\be_\be _\bA_\bl_\bs_\bo:\n",
      "\n",
      "     regular expression (aka ‘regexp’) for the details of the pattern\n",
      "     specification.\n",
      "\n",
      "     ‘regmatches’ for extracting matched substrings based on the\n",
      "     results of ‘regexpr’, ‘gregexpr’ and ‘regexec’.\n",
      "\n",
      "     ‘glob2rx’ to turn wildcard matches into regular expressions.\n",
      "\n",
      "     ‘agrep’ for approximate matching.\n",
      "\n",
      "     ‘charmatch’, ‘pmatch’ for partial matching, ‘match’ for matching\n",
      "     to whole strings, ‘startsWith’ for matching of initial parts of\n",
      "     strings.\n",
      "\n",
      "     ‘tolower’, ‘toupper’ and ‘chartr’ for character translations.\n",
      "\n",
      "     ‘apropos’ uses regexps and has more examples.\n",
      "\n",
      "     ‘grepRaw’ for matching raw vectors.\n",
      "\n",
      "     Options ‘PCRE_study’ and ‘PCRE_use_JIT’.\n",
      "\n",
      "_\bE_\bx_\ba_\bm_\bp_\bl_\be_\bs:\n",
      "\n",
      "     grep(\"[a-z]\", letters)\n",
      "     \n",
      "     txt <- c(\"arm\",\"foot\",\"lefroo\", \"bafoobar\")\n",
      "     if(length(i <- grep(\"foo\", txt)))\n",
      "        cat(\"'foo' appears at least once in\\n\\t\", txt, \"\\n\")\n",
      "     i # 2 and 4\n",
      "     txt[i]\n",
      "     \n",
      "     ## Double all 'a' or 'b's;  \"\\\" must be escaped, i.e., 'doubled'\n",
      "     gsub(\"([ab])\", \"\\\\1_\\\\1_\", \"abc and ABC\")\n",
      "     \n",
      "     txt <- c(\"The\", \"licenses\", \"for\", \"most\", \"software\", \"are\",\n",
      "       \"designed\", \"to\", \"take\", \"away\", \"your\", \"freedom\",\n",
      "       \"to\", \"share\", \"and\", \"change\", \"it.\",\n",
      "       \"\", \"By\", \"contrast,\", \"the\", \"GNU\", \"General\", \"Public\", \"License\",\n",
      "       \"is\", \"intended\", \"to\", \"guarantee\", \"your\", \"freedom\", \"to\",\n",
      "       \"share\", \"and\", \"change\", \"free\", \"software\", \"--\",\n",
      "       \"to\", \"make\", \"sure\", \"the\", \"software\", \"is\",\n",
      "       \"free\", \"for\", \"all\", \"its\", \"users\")\n",
      "     ( i <- grep(\"[gu]\", txt) ) # indices\n",
      "     stopifnot( txt[i] == grep(\"[gu]\", txt, value = TRUE) )\n",
      "     \n",
      "     ## Note that in locales such as en_US this includes B as the\n",
      "     ## collation order is aAbBcCdEe ...\n",
      "     (ot <- sub(\"[b-e]\",\".\", txt))\n",
      "     txt[ot != gsub(\"[b-e]\",\".\", txt)]#- gsub does \"global\" substitution\n",
      "     \n",
      "     txt[gsub(\"g\",\"#\", txt) !=\n",
      "         gsub(\"g\",\"#\", txt, ignore.case = TRUE)] # the \"G\" words\n",
      "     \n",
      "     regexpr(\"en\", txt)\n",
      "     \n",
      "     gregexpr(\"e\", txt)\n",
      "     \n",
      "     ## Using grepl() for filtering\n",
      "     ## Find functions with argument names matching \"warn\":\n",
      "     findArgs <- function(env, pattern) {\n",
      "       nms <- ls(envir = as.environment(env))\n",
      "       nms <- nms[is.na(match(nms, c(\"F\",\"T\")))] # <-- work around \"checking hack\"\n",
      "       aa <- sapply(nms, function(.) { o <- get(.)\n",
      "                    if(is.function(o)) names(formals(o)) })\n",
      "       iw <- sapply(aa, function(a) any(grepl(pattern, a, ignore.case=TRUE)))\n",
      "       aa[iw]\n",
      "     }\n",
      "     findArgs(\"package:base\", \"warn\")\n",
      "     \n",
      "     ## trim trailing white space\n",
      "     str <- \"Now is the time      \"\n",
      "     sub(\" +$\", \"\", str)  ## spaces only\n",
      "     ## what is considered 'white space' depends on the locale.\n",
      "     sub(\"[[:space:]]+$\", \"\", str) ## white space, POSIX-style\n",
      "     ## what PCRE considered white space changed in version 8.34: see ?regex\n",
      "     sub(\"\\\\s+$\", \"\", str, perl = TRUE) ## PCRE-style white space\n",
      "     \n",
      "     ## capitalizing\n",
      "     txt <- \"a test of capitalizing\"\n",
      "     gsub(\"(\\\\w)(\\\\w*)\", \"\\\\U\\\\1\\\\L\\\\2\", txt, perl=TRUE)\n",
      "     gsub(\"\\\\b(\\\\w)\",    \"\\\\U\\\\1\",       txt, perl=TRUE)\n",
      "     \n",
      "     txt2 <- \"useRs may fly into JFK or laGuardia\"\n",
      "     gsub(\"(\\\\w)(\\\\w*)(\\\\w)\", \"\\\\U\\\\1\\\\E\\\\2\\\\U\\\\3\", txt2, perl=TRUE)\n",
      "      sub(\"(\\\\w)(\\\\w*)(\\\\w)\", \"\\\\U\\\\1\\\\E\\\\2\\\\U\\\\3\", txt2, perl=TRUE)\n",
      "     \n",
      "     ## named capture\n",
      "     notables <- c(\"  Ben Franklin and Jefferson Davis\",\n",
      "                   \"\\tMillard Fillmore\")\n",
      "     # name groups 'first' and 'last'\n",
      "     name.rex <- \"(?<first>[[:upper:]][[:lower:]]+) (?<last>[[:upper:]][[:lower:]]+)\"\n",
      "     (parsed <- regexpr(name.rex, notables, perl = TRUE))\n",
      "     gregexpr(name.rex, notables, perl = TRUE)[[2]]\n",
      "     parse.one <- function(res, result) {\n",
      "       m <- do.call(rbind, lapply(seq_along(res), function(i) {\n",
      "         if(result[i] == -1) return(\"\")\n",
      "         st <- attr(result, \"capture.start\")[i, ]\n",
      "         substring(res[i], st, st + attr(result, \"capture.length\")[i, ] - 1)\n",
      "       }))\n",
      "       colnames(m) <- attr(result, \"capture.names\")\n",
      "       m\n",
      "     }\n",
      "     parse.one(notables, parsed)\n",
      "     \n",
      "     ## Decompose a URL into its components.\n",
      "     ## Example by LT (http://www.cs.uiowa.edu/~luke/R/regexp.html).\n",
      "     x <- \"http://stat.umn.edu:80/xyz\"\n",
      "     m <- regexec(\"^(([^:]+)://)?([^:/]+)(:([0-9]+))?(/.*)\", x)\n",
      "     m\n",
      "     regmatches(x, m)\n",
      "     ## Element 3 is the protocol, 4 is the host, 6 is the port, and 7\n",
      "     ## is the path.  We can use this to make a function for extracting the\n",
      "     ## parts of a URL:\n",
      "     URL_parts <- function(x) {\n",
      "         m <- regexec(\"^(([^:]+)://)?([^:/]+)(:([0-9]+))?(/.*)\", x)\n",
      "         parts <- do.call(rbind,\n",
      "                          lapply(regmatches(x, m), `[`, c(3L, 4L, 6L, 7L)))\n",
      "         colnames(parts) <- c(\"protocol\",\"host\",\"port\",\"path\")\n",
      "         parts\n",
      "     }\n",
      "     URL_parts(x)\n",
      "     \n",
      "     ## There is no gregexec() yet, but one can emulate it by running\n",
      "     ## regexec() on the regmatches obtained via gregexpr().  E.g.:\n",
      "     pattern <- \"([[:alpha:]]+)([[:digit:]]+)\"\n",
      "     s <- \"Test: A1 BC23 DEF456\"\n",
      "     lapply(regmatches(s, gregexpr(pattern, s)),\n",
      "            function(e) regmatches(e, regexec(pattern, e)))\n",
      "     \n"
     ]
    }
   ],
   "source": [
    "%%R\n",
    "?grep"
   ]
  },
  {
   "cell_type": "code",
   "execution_count": 29,
   "metadata": {},
   "outputs": [
    {
     "data": {
      "text/plain": [
       "                                      debarcoded.BC01 \n",
       "\"results.ngslub/debarcoded.BC01/BC01.blastn.mts1.tsv\" \n",
       "                                      debarcoded.BC02 \n",
       "\"results.ngslub/debarcoded.BC02/BC02.blastn.mts1.tsv\" \n",
       "                                      debarcoded.BC05 \n",
       "\"results.ngslub/debarcoded.BC05/BC05.blastn.mts1.tsv\" \n",
       "                                      debarcoded.BC06 \n",
       "\"results.ngslub/debarcoded.BC06/BC06.blastn.mts1.tsv\" \n",
       "                                      debarcoded.BC09 \n",
       "\"results.ngslub/debarcoded.BC09/BC09.blastn.mts1.tsv\" \n",
       "                                      debarcoded.none \n",
       "\"results.ngslub/debarcoded.none/none.blastn.mts1.tsv\" \n"
      ]
     },
     "metadata": {},
     "output_type": "display_data"
    }
   ],
   "source": [
    "%%R #-w 400 -h 400 -r 120\n",
    "#system(\"ls\")\n",
    "getwd()\n",
    "\n",
    "folder<-\"results.ngslub\"\n",
    "\n",
    "#for (d in dir(folder)) {\n",
    "res.files<-sapply(dir(folder),function(d){\n",
    "  p(folder,\"/\",d,\"/\",grep(\"mts1.tsv$\",dir(p(folder,\"/\",d)),value=TRUE))\n",
    "})\n",
    "res.files\n",
    "#}"
   ]
  },
  {
   "cell_type": "code",
   "execution_count": 30,
   "metadata": {},
   "outputs": [
    {
     "name": "stdout",
     "output_type": "stream",
     "text": [
      "R Help on ‘read.table’read.table                package:utils                R Documentation\n",
      "\n",
      "_\bD_\ba_\bt_\ba _\bI_\bn_\bp_\bu_\bt\n",
      "\n",
      "_\bD_\be_\bs_\bc_\br_\bi_\bp_\bt_\bi_\bo_\bn:\n",
      "\n",
      "     Reads a file in table format and creates a data frame from it,\n",
      "     with cases corresponding to lines and variables to fields in the\n",
      "     file.\n",
      "\n",
      "_\bU_\bs_\ba_\bg_\be:\n",
      "\n",
      "     read.table(file, header = FALSE, sep = \"\", quote = \"\\\"'\",\n",
      "                dec = \".\", numerals = c(\"allow.loss\", \"warn.loss\", \"no.loss\"),\n",
      "                row.names, col.names, as.is = !stringsAsFactors,\n",
      "                na.strings = \"NA\", colClasses = NA, nrows = -1,\n",
      "                skip = 0, check.names = TRUE, fill = !blank.lines.skip,\n",
      "                strip.white = FALSE, blank.lines.skip = TRUE,\n",
      "                comment.char = \"#\",\n",
      "                allowEscapes = FALSE, flush = FALSE,\n",
      "                stringsAsFactors = default.stringsAsFactors(),\n",
      "                fileEncoding = \"\", encoding = \"unknown\", text, skipNul = FALSE)\n",
      "     \n",
      "     read.csv(file, header = TRUE, sep = \",\", quote = \"\\\"\",\n",
      "              dec = \".\", fill = TRUE, comment.char = \"\", ...)\n",
      "     \n",
      "     read.csv2(file, header = TRUE, sep = \";\", quote = \"\\\"\",\n",
      "               dec = \",\", fill = TRUE, comment.char = \"\", ...)\n",
      "     \n",
      "     read.delim(file, header = TRUE, sep = \"\\t\", quote = \"\\\"\",\n",
      "                dec = \".\", fill = TRUE, comment.char = \"\", ...)\n",
      "     \n",
      "     read.delim2(file, header = TRUE, sep = \"\\t\", quote = \"\\\"\",\n",
      "                 dec = \",\", fill = TRUE, comment.char = \"\", ...)\n",
      "     \n",
      "_\bA_\br_\bg_\bu_\bm_\be_\bn_\bt_\bs:\n",
      "\n",
      "    file: the name of the file which the data are to be read from.\n",
      "          Each row of the table appears as one line of the file.  If it\n",
      "          does not contain an _absolute_ path, the file name is\n",
      "          _relative_ to the current working directory, ‘getwd()’.\n",
      "          Tilde-expansion is performed where supported.  This can be a\n",
      "          compressed file (see ‘file’).\n",
      "\n",
      "          Alternatively, ‘file’ can be a readable text-mode connection\n",
      "          (which will be opened for reading if necessary, and if so\n",
      "          ‘close’d (and hence destroyed) at the end of the function\n",
      "          call).  (If ‘stdin()’ is used, the prompts for lines may be\n",
      "          somewhat confusing.  Terminate input with a blank line or an\n",
      "          EOF signal, ‘Ctrl-D’ on Unix and ‘Ctrl-Z’ on Windows.  Any\n",
      "          pushback on ‘stdin()’ will be cleared before return.)\n",
      "\n",
      "          ‘file’ can also be a complete URL.  (For the supported URL\n",
      "          schemes, see the ‘URLs’ section of the help for ‘url’.)\n",
      "\n",
      "  header: a logical value indicating whether the file contains the\n",
      "          names of the variables as its first line.  If missing, the\n",
      "          value is determined from the file format: ‘header’ is set to\n",
      "          ‘TRUE’ if and only if the first row contains one fewer field\n",
      "          than the number of columns.\n",
      "\n",
      "     sep: the field separator character.  Values on each line of the\n",
      "          file are separated by this character.  If ‘sep = \"\"’ (the\n",
      "          default for ‘read.table’) the separator is ‘white space’,\n",
      "          that is one or more spaces, tabs, newlines or carriage\n",
      "          returns.\n",
      "\n",
      "   quote: the set of quoting characters. To disable quoting altogether,\n",
      "          use ‘quote = \"\"’.  See ‘scan’ for the behaviour on quotes\n",
      "          embedded in quotes.  Quoting is only considered for columns\n",
      "          read as character, which is all of them unless ‘colClasses’\n",
      "          is specified.\n",
      "\n",
      "     dec: the character used in the file for decimal points.\n",
      "\n",
      "numerals: string indicating how to convert numbers whose conversion to\n",
      "          double precision would lose accuracy, see ‘type.convert’.\n",
      "          Can be abbreviated.  (Applies also to complex-number inputs.)\n",
      "\n",
      "row.names: a vector of row names.  This can be a vector giving the\n",
      "          actual row names, or a single number giving the column of the\n",
      "          table which contains the row names, or character string\n",
      "          giving the name of the table column containing the row names.\n",
      "\n",
      "          If there is a header and the first row contains one fewer\n",
      "          field than the number of columns, the first column in the\n",
      "          input is used for the row names.  Otherwise if ‘row.names’ is\n",
      "          missing, the rows are numbered.\n",
      "\n",
      "          Using ‘row.names = NULL’ forces row numbering. Missing or\n",
      "          ‘NULL’ ‘row.names’ generate row names that are considered to\n",
      "          be ‘automatic’ (and not preserved by ‘as.matrix’).\n",
      "\n",
      "col.names: a vector of optional names for the variables.  The default\n",
      "          is to use ‘\"V\"’ followed by the column number.\n",
      "\n",
      "   as.is: the default behavior of ‘read.table’ is to convert character\n",
      "          variables (which are not converted to logical, numeric or\n",
      "          complex) to factors.  The variable ‘as.is’ controls the\n",
      "          conversion of columns not otherwise specified by\n",
      "          ‘colClasses’.  Its value is either a vector of logicals\n",
      "          (values are recycled if necessary), or a vector of numeric or\n",
      "          character indices which specify which columns should not be\n",
      "          converted to factors.\n",
      "\n",
      "          Note: to suppress all conversions including those of numeric\n",
      "          columns, set ‘colClasses = \"character\"’.\n",
      "\n",
      "          Note that ‘as.is’ is specified per column (not per variable)\n",
      "          and so includes the column of row names (if any) and any\n",
      "          columns to be skipped.\n",
      "\n",
      "na.strings: a character vector of strings which are to be interpreted\n",
      "          as ‘NA’ values.  Blank fields are also considered to be\n",
      "          missing values in logical, integer, numeric and complex\n",
      "          fields.  Note that the test happens _after_ white space is\n",
      "          stripped from the input, so ‘na.strings’ values may need\n",
      "          their own white space stripped in advance.\n",
      "\n",
      "colClasses: character.  A vector of classes to be assumed for the\n",
      "          columns.  If unnamed, recycled as necessary.  If named, names\n",
      "          are matched with unspecified values being taken to be ‘NA’.\n",
      "\n",
      "          Possible values are ‘NA’ (the default, when ‘type.convert’ is\n",
      "          used), ‘\"NULL\"’ (when the column is skipped), one of the\n",
      "          atomic vector classes (logical, integer, numeric, complex,\n",
      "          character, raw), or ‘\"factor\"’, ‘\"Date\"’ or ‘\"POSIXct\"’.\n",
      "          Otherwise there needs to be an ‘as’ method (from package\n",
      "          ‘methods’) for conversion from ‘\"character\"’ to the specified\n",
      "          formal class.\n",
      "\n",
      "          Note that ‘colClasses’ is specified per column (not per\n",
      "          variable) and so includes the column of row names (if any).\n",
      "\n",
      "   nrows: integer: the maximum number of rows to read in.  Negative and\n",
      "          other invalid values are ignored.\n",
      "\n",
      "    skip: integer: the number of lines of the data file to skip before\n",
      "          beginning to read data.\n",
      "\n",
      "check.names: logical.  If ‘TRUE’ then the names of the variables in the\n",
      "          data frame are checked to ensure that they are syntactically\n",
      "          valid variable names.  If necessary they are adjusted (by\n",
      "          ‘make.names’) so that they are, and also to ensure that there\n",
      "          are no duplicates.\n",
      "\n",
      "    fill: logical. If ‘TRUE’ then in case the rows have unequal length,\n",
      "          blank fields are implicitly added.  See ‘Details’.\n",
      "\n",
      "strip.white: logical. Used only when ‘sep’ has been specified, and\n",
      "          allows the stripping of leading and trailing white space from\n",
      "          unquoted ‘character’ fields (‘numeric’ fields are always\n",
      "          stripped).  See ‘scan’ for further details (including the\n",
      "          exact meaning of ‘white space’), remembering that the columns\n",
      "          may include the row names.\n",
      "\n",
      "blank.lines.skip: logical: if ‘TRUE’ blank lines in the input are\n",
      "          ignored.\n",
      "\n",
      "comment.char: character: a character vector of length one containing a\n",
      "          single character or an empty string.  Use ‘\"\"’ to turn off\n",
      "          the interpretation of comments altogether.\n",
      "\n",
      "allowEscapes: logical.  Should C-style escapes such as ‘\\n’ be\n",
      "          processed or read verbatim (the default)?  Note that if not\n",
      "          within quotes these could be interpreted as a delimiter (but\n",
      "          not as a comment character).  For more details see ‘scan’.\n",
      "\n",
      "   flush: logical: if ‘TRUE’, ‘scan’ will flush to the end of the line\n",
      "          after reading the last of the fields requested.  This allows\n",
      "          putting comments after the last field.\n",
      "\n",
      "stringsAsFactors: logical: should character vectors be converted to\n",
      "          factors?  Note that this is overridden by ‘as.is’ and\n",
      "          ‘colClasses’, both of which allow finer control.\n",
      "\n",
      "fileEncoding: character string: if non-empty declares the encoding used\n",
      "          on a file (not a connection) so the character data can be\n",
      "          re-encoded.  See the ‘Encoding’ section of the help for\n",
      "          ‘file’, the ‘R Data Import/Export Manual’ and ‘Note’.\n",
      "\n",
      "encoding: encoding to be assumed for input strings.  It is used to mark\n",
      "          character strings as known to be in Latin-1 or UTF-8 (see\n",
      "          ‘Encoding’): it is not used to re-encode the input, but\n",
      "          allows R to handle encoded strings in their native encoding\n",
      "          (if one of those two).  See ‘Value’ and ‘Note’.\n",
      "\n",
      "    text: character string: if ‘file’ is not supplied and this is, then\n",
      "          data are read from the value of ‘text’ via a text connection.\n",
      "          Notice that a literal string can be used to include (small)\n",
      "          data sets within R code.\n",
      "\n",
      " skipNul: logical: should nuls be skipped?\n",
      "\n",
      "     ...: Further arguments to be passed to ‘read.table’.\n",
      "\n",
      "_\bD_\be_\bt_\ba_\bi_\bl_\bs:\n",
      "\n",
      "     This function is the principal means of reading tabular data into\n",
      "     R.\n",
      "\n",
      "     Unless ‘colClasses’ is specified, all columns are read as\n",
      "     character columns and then converted using ‘type.convert’ to\n",
      "     logical, integer, numeric, complex or (depending on ‘as.is’)\n",
      "     factor as appropriate.  Quotes are (by default) interpreted in all\n",
      "     fields, so a column of values like ‘\"42\"’ will result in an\n",
      "     integer column.\n",
      "\n",
      "     A field or line is ‘blank’ if it contains nothing (except\n",
      "     whitespace if no separator is specified) before a comment\n",
      "     character or the end of the field or line.\n",
      "\n",
      "     If ‘row.names’ is not specified and the header line has one less\n",
      "     entry than the number of columns, the first column is taken to be\n",
      "     the row names.  This allows data frames to be read in from the\n",
      "     format in which they are printed.  If ‘row.names’ is specified and\n",
      "     does not refer to the first column, that column is discarded from\n",
      "     such files.\n",
      "\n",
      "     The number of data columns is determined by looking at the first\n",
      "     five lines of input (or the whole input if it has less than five\n",
      "     lines), or from the length of ‘col.names’ if it is specified and\n",
      "     is longer.  This could conceivably be wrong if ‘fill’ or\n",
      "     ‘blank.lines.skip’ are true, so specify ‘col.names’ if necessary\n",
      "     (as in the ‘Examples’).\n",
      "\n",
      "     ‘read.csv’ and ‘read.csv2’ are identical to ‘read.table’ except\n",
      "     for the defaults.  They are intended for reading ‘comma separated\n",
      "     value’ files (‘.csv’) or (‘read.csv2’) the variant used in\n",
      "     countries that use a comma as decimal point and a semicolon as\n",
      "     field separator.  Similarly, ‘read.delim’ and ‘read.delim2’ are\n",
      "     for reading delimited files, defaulting to the TAB character for\n",
      "     the delimiter.  Notice that ‘header = TRUE’ and ‘fill = TRUE’ in\n",
      "     these variants, and that the comment character is disabled.\n",
      "\n",
      "     The rest of the line after a comment character is skipped; quotes\n",
      "     are not processed in comments.  Complete comment lines are allowed\n",
      "     provided ‘blank.lines.skip = TRUE’; however, comment lines prior\n",
      "     to the header must have the comment character in the first\n",
      "     non-blank column.\n",
      "\n",
      "     Quoted fields with embedded newlines are supported except after a\n",
      "     comment character.  Embedded nuls are unsupported: skipping them\n",
      "     (with ‘skipNul = TRUE’) may work.\n",
      "\n",
      "_\bV_\ba_\bl_\bu_\be:\n",
      "\n",
      "     A data frame (‘data.frame’) containing a representation of the\n",
      "     data in the file.\n",
      "\n",
      "     Empty input is an error unless ‘col.names’ is specified, when a\n",
      "     0-row data frame is returned: similarly giving just a header line\n",
      "     if ‘header = TRUE’ results in a 0-row data frame.  Note that in\n",
      "     either case the columns will be logical unless ‘colClasses’ was\n",
      "     supplied.\n",
      "\n",
      "     Character strings in the result (including factor levels) will\n",
      "     have a declared encoding if ‘encoding’ is ‘\"latin1\"’ or ‘\"UTF-8\"’.\n",
      "\n",
      "_\bM_\be_\bm_\bo_\br_\by _\bu_\bs_\ba_\bg_\be:\n",
      "\n",
      "     These functions can use a surprising amount of memory when reading\n",
      "     large files.  There is extensive discussion in the ‘R Data\n",
      "     Import/Export’ manual, supplementing the notes here.\n",
      "\n",
      "     Less memory will be used if ‘colClasses’ is specified as one of\n",
      "     the six atomic vector classes.  This can be particularly so when\n",
      "     reading a column that takes many distinct numeric values, as\n",
      "     storing each distinct value as a character string can take up to\n",
      "     14 times as much memory as storing it as an integer.\n",
      "\n",
      "     Using ‘nrows’, even as a mild over-estimate, will help memory\n",
      "     usage.\n",
      "\n",
      "     Using ‘comment.char = \"\"’ will be appreciably faster than the\n",
      "     ‘read.table’ default.\n",
      "\n",
      "     ‘read.table’ is not the right tool for reading large matrices,\n",
      "     especially those with many columns: it is designed to read _data\n",
      "     frames_ which may have columns of very different classes.  Use\n",
      "     ‘scan’ instead for matrices.\n",
      "\n",
      "_\bN_\bo_\bt_\be:\n",
      "\n",
      "     The columns referred to in ‘as.is’ and ‘colClasses’ include the\n",
      "     column of row names (if any).\n",
      "\n",
      "     There are two approaches for reading input that is not in the\n",
      "     local encoding.  If the input is known to be UTF-8 or Latin1, use\n",
      "     the ‘encoding’ argument to declare that.  If the input is in some\n",
      "     other encoding, then it may be translated on input.  The\n",
      "     ‘fileEncoding’ argument achieves this by setting up a connection\n",
      "     to do the re-encoding into the current locale.  Note that on\n",
      "     Windows or other systems not running in a UTF-8 locale, this may\n",
      "     not be possible.\n",
      "\n",
      "_\bR_\be_\bf_\be_\br_\be_\bn_\bc_\be_\bs:\n",
      "\n",
      "     Chambers, J. M. (1992) _Data for models._ Chapter 3 of\n",
      "     _Statistical Models in S_ eds J. M. Chambers and T. J. Hastie,\n",
      "     Wadsworth & Brooks/Cole.\n",
      "\n",
      "_\bS_\be_\be _\bA_\bl_\bs_\bo:\n",
      "\n",
      "     The ‘R Data Import/Export’ manual.\n",
      "\n",
      "     ‘scan’, ‘type.convert’, ‘read.fwf’ for reading _f_ixed _w_idth\n",
      "     _f_ormatted input; ‘write.table’; ‘data.frame’.\n",
      "\n",
      "     ‘count.fields’ can be useful to determine problems with reading\n",
      "     files which result in reports of incorrect record lengths (see the\n",
      "     ‘Examples’ below).\n",
      "\n",
      "     <URL: https://tools.ietf.org/html/rfc4180> for the IANA definition\n",
      "     of CSV files (which requires comma as separator and CRLF line\n",
      "     endings).\n",
      "\n",
      "_\bE_\bx_\ba_\bm_\bp_\bl_\be_\bs:\n",
      "\n",
      "     ## using count.fields to handle unknown maximum number of fields\n",
      "     ## when fill = TRUE\n",
      "     test1 <- c(1:5, \"6,7\", \"8,9,10\")\n",
      "     tf <- tempfile()\n",
      "     writeLines(test1, tf)\n",
      "     \n",
      "     read.csv(tf, fill = TRUE) # 1 column\n",
      "     ncol <- max(count.fields(tf, sep = \",\"))\n",
      "     read.csv(tf, fill = TRUE, header = FALSE,\n",
      "              col.names = paste0(\"V\", seq_len(ncol)))\n",
      "     unlink(tf)\n",
      "     \n",
      "     ## \"Inline\" data set, using text=\n",
      "     ## Notice that leading and trailing empty lines are auto-trimmed\n",
      "     \n",
      "     read.table(header = TRUE, text = \"\n",
      "     a b\n",
      "     1 2\n",
      "     3 4\n",
      "     \")\n",
      "     \n"
     ]
    }
   ],
   "source": [
    "%%R\n",
    "?read.table"
   ]
  },
  {
   "cell_type": "code",
   "execution_count": 46,
   "metadata": {},
   "outputs": [
    {
     "data": {
      "text/plain": [
       "                                                    V1\n",
       "debarcoded.BC01.1 6343d1f7-1096-4a23-8416-df8c10d2e6ce\n",
       "debarcoded.BC01.2 61df5dfa-81f4-4a4c-b103-1ce320ea4b74\n",
       "debarcoded.BC01.3 69f3d32d-e1e4-411c-9e8a-147ccd45a39d\n",
       "debarcoded.BC01.4 44f9ef8d-0a06-4007-845f-54b105cde8db\n",
       "debarcoded.BC01.5 830a093b-e996-4636-8dff-73df4d54f04b\n",
       "debarcoded.BC01.6 0ee6085b-96e6-4c23-9325-2bdbe8d67a45\n",
       "                                              V2      V3     V4   V5   V6  V7\n",
       "debarcoded.BC01.1  gi|645320152|ref|NR_117426.1| 1000570 1020.0 1382 1409 132\n",
       "debarcoded.BC01.2 gi|1441204222|ref|NR_157637.1| 1714840   43.6   23  145   0\n",
       "debarcoded.BC01.3  gi|343206042|ref|NR_044612.1|  505341  616.0 1502 1422 171\n",
       "debarcoded.BC01.4  gi|659364471|ref|NR_121688.1|     490  342.0  443  909  30\n",
       "debarcoded.BC01.5 gi|1146059170|ref|NR_145902.1| 1211383   41.7   26  143   0\n",
       "debarcoded.BC01.6  gi|636560108|ref|NR_116168.1|  888828  931.0 1459 1414 120\n",
       "                   V8        V9  sid\n",
       "debarcoded.BC01.1 552  0.00e+00 BC01\n",
       "debarcoded.BC01.2  23  2.72e-04 BC01\n",
       "debarcoded.BC01.3 333 1.45e-175 BC01\n",
       "debarcoded.BC01.4 185  1.72e-93 BC01\n",
       "debarcoded.BC01.5  22  1.00e-03 BC01\n",
       "debarcoded.BC01.6 504  0.00e+00 BC01\n"
      ]
     },
     "metadata": {},
     "output_type": "display_data"
    }
   ],
   "source": [
    "%%R\n",
    "\n",
    "blastn.all<-NULL\n",
    "#for (rf in res.files) {\n",
    "#    df<-read.table(rf,header=FALSE,as.is=TRUE) #stringsAsFactors=FALSE\n",
    "#    blastn.all<-rbind(blastn.all,cbind(df,sid=rf))\n",
    "#}\n",
    "\n",
    "ls.blastn.all<-lapply(res.files, function(rf){\n",
    "    df<-read.table(rf,header=FALSE,as.is=TRUE) #stringsAsFactors=FALSE\n",
    "    cbind(df,sid=rf)\n",
    "})\n",
    "\n",
    "blastn.all<-do.call(rbind, ls.blastn.all)\n",
    "\n",
    "blastn.all$sid<-gsub(\"^.*debarcoded.([^/]*)/.*$\",\"\\\\1\",blastn.all$sid)\n",
    "\n",
    "head(blastn.all)"
   ]
  },
  {
   "cell_type": "code",
   "execution_count": 39,
   "metadata": {},
   "outputs": [
    {
     "data": {
      "text/plain": [
       "[1] \"BC01\"\n"
      ]
     },
     "metadata": {},
     "output_type": "display_data"
    }
   ],
   "source": [
    "%%R\n",
    "gsub(\"^.*debarcoded.([^/]*)/.*$\",\"\\\\1\",\"results.ngslub/debarcoded.BC01/BC01.blastn.mts1.tsv\")"
   ]
  },
  {
   "cell_type": "code",
   "execution_count": 47,
   "metadata": {},
   "outputs": [],
   "source": [
    "%%R\n",
    "colnames(blastn.all)<-c(\"qseqid\",\"sseqid\",\"staxids\",\"bitscore\",\"length\",\"qlen\",\n",
    "                        \"mismatch\",\"score\",\"evalue\",\"sampid\")"
   ]
  },
  {
   "cell_type": "code",
   "execution_count": 48,
   "metadata": {},
   "outputs": [
    {
     "data": {
      "text/plain": [
       "\n",
       " BC01  BC02  BC05  BC06  BC09  none \n",
       " 4432  2225  2867  4208  1003 13744 \n"
      ]
     },
     "metadata": {},
     "output_type": "display_data"
    }
   ],
   "source": [
    "%%R\n",
    "table(blastn.all$sampid)"
   ]
  },
  {
   "cell_type": "code",
   "execution_count": null,
   "metadata": {},
   "outputs": [],
   "source": []
  },
  {
   "cell_type": "code",
   "execution_count": null,
   "metadata": {},
   "outputs": [],
   "source": []
  },
  {
   "cell_type": "code",
   "execution_count": null,
   "metadata": {},
   "outputs": [],
   "source": []
  }
 ],
 "metadata": {
  "kernelspec": {
   "display_name": "Python 3",
   "language": "python",
   "name": "python3"
  },
  "language_info": {
   "codemirror_mode": {
    "name": "ipython",
    "version": 3
   },
   "file_extension": ".py",
   "mimetype": "text/x-python",
   "name": "python",
   "nbconvert_exporter": "python",
   "pygments_lexer": "ipython3",
   "version": "3.6.6"
  }
 },
 "nbformat": 4,
 "nbformat_minor": 2
}
